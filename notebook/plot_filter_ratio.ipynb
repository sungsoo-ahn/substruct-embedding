{
 "metadata": {
  "language_info": {
   "codemirror_mode": {
    "name": "ipython",
    "version": 3
   },
   "file_extension": ".py",
   "mimetype": "text/x-python",
   "name": "python",
   "nbconvert_exporter": "python",
   "pygments_lexer": "ipython3",
   "version": "3.8.5-final"
  },
  "orig_nbformat": 2,
  "kernelspec": {
   "name": "python3",
   "display_name": "Python 3",
   "language": "python"
  }
 },
 "nbformat": 4,
 "nbformat_minor": 2,
 "cells": [
  {
   "cell_type": "code",
   "execution_count": null,
   "metadata": {},
   "outputs": [],
   "source": [
    "import numpy as np\n",
    "from matplotlib import pyplot\n",
    "import pickle\n",
    "\n",
    "with open(\"./resource/result/chembl_all.pkl\", \"rb\") as f:\n",
    "    result = pickle.load(f)\n",
    "\n",
    "ratio_per_rule = np.sort(np.mean(result, axis=0))[::-1]\n",
    "\n",
    "pyplot.yscale(\"log\")\n",
    "pyplot.bar(np.arange(ratio_per_rule.shape[0]), ratio_per_rule)"
   ]
  },
  {
   "cell_type": "code",
   "execution_count": null,
   "metadata": {},
   "outputs": [],
   "source": []
  }
 ]
}